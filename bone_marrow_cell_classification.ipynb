{
  "cells": [
    {
      "cell_type": "code",
      "metadata": {},
      "outputs": [],
      "source": [
        "!pip install tensorflow"
      ]
    },
    {
      "cell_type": "code",
      "metadata": {},
      "outputs": [],
      "source": [
        "# imports"
      ]
    },
    {
      "cell_type": "code",
      "metadata": {},
      "outputs": [],
      "source": [
        "# data manipulation and visualization libraries\\n",
        "import os\\n",
        "import cv2\\n",
        "import numpy as np\\n",
        "import pandas as pd\\n",
        "import seaborn as sns\\n",
        "import matplotlib.pyplot as plt\\n",
        "from sklearn.metrics import confusion_matrix\\n",
        "from sklearn.model_selection import train_test_split\\n",
        "from sklearn.preprocessing import LabelEncoder"
      ]
    },
    {
      "cell_type": "code",
      "metadata": {},
      "outputs": [],
      "source": [
        "# cnn supporting libraries\\n",
        "from keras.models import Sequential\\n",
        "from keras.layers import Conv2D, MaxPooling2D, Flatten, Dense, Dropout\\n",
        "from keras.utils import to_categorical\\n",
        "from keras.models import load_model\\n",
        "from keras.callbacks import ModelCheckpoint\\n",
        "from tensorflow.keras import backend as K\\n",
        "from tensorflow.keras.optimizers import Adam"
      ]
    },
    {
      "cell_type": "code",
      "metadata": {},
      "outputs": [],
      "source": [
        "# resnet supporting libraries\\n",
        "import tensorflow as tf\\n",
        "from tensorflow.keras.applications.resnet50 import ResNet50\\n",
        "from tensorflow.keras.preprocessing import image\\n",
        "from tensorflow.keras.applications.resnet50 import preprocess_input, decode_predictions\\n",
        "from tensorflow.keras.utils import to_categorical"
      ]
    },
    {
      "cell_type": "code",
      "metadata": {},
      "outputs": [],
      "source": [
        "!pip freeze > requirements.txt"
      ]
    },
    {
      "cell_type": "code",
      "metadata": {},
      "outputs": [],
      "source": [
        "# preprocess the images"
      ]
    },
    {
      "cell_type": "code",
      "metadata": {},
      "outputs": [],
      "source": [
        "def preprocess_data(image_path):\\n",
        "    # load image using cv2\\n",
        "    image_bgr = cv2.imread(image_path)\\n",
        "    # convert image from bgr to rgb\\n",
        "    image_rgb = cv2.cvtColor(image_bgr, cv2.COLOR_BGR2RGB)\\n",
        "    # resize image to make each same size\\n",
        "    resized_image = cv2.resize(image_rgb, (64, 64))\\n",
        "    return resized_image"
      ]
    },
    {
      "cell_type": "code",
      "metadata": {},
      "outputs": [],
      "source": [
        "# defining directory where all images are stored\\n",
        "main_directory = 'bone_marrow_cell_dataset'\\n",
        "\\n",
        "# list of 21 types of cells\\n"
      ]
    },
    {
      "cell_type": "code",
      "metadata": {},
      "outputs": [],
      "source": [
        "i = 1\\n",
        "# reading and preprocessing images\\n",
        "for label in labels:\\n",
        "    folder_path = os.path.join(main_directory, label)   # folder path \\n",
        "    if os.path.exists(folder_path):\\n",
        "        for filename in os.listdir(folder_path):\\n",
        "            file_path = os.path.join(folder_path, filename)  # file path\\n",
        "            if os.path.isdir(file_path): \\n",
        "                for img_filename in os.listdir(file_path):\\n",
        "                    if img_filename.endswith('.jpg'):\\n",
        "                        row_img_path = os.path.join(file_path, img_filename)  # image path\\n",
        "                        img_path = ",
        ".join(row_img_path.split(",
        "))\\n",
        "                        images_list.append(preprocess_data(img_path))\\n",
        "                        cell_types_list.append(label)\\n",
        "                        print(i, ",
        ", img_path)\\n",
        "                        i+=1"
      ]
    },
    {
      "cell_type": "code",
      "metadata": {},
      "outputs": [],
      "source": []
    },
    {
      "cell_type": "code",
      "metadata": {},
      "outputs": [],
      "source": [
        "# converting the images and labels to NumPy arrays\\n",
        "images_array = np.array(images_list)\\n",
        "cell_types_array = np.array(cell_types_list)\\n",
        "\\n",
        "print(",
        ",images_array.shape)\\n",
        "print(",
        ",cell_types_array.shape)\\n",
        "\\n",
        "print("
      ]
    },
    {
      "cell_type": "code",
      "metadata": {},
      "outputs": [],
      "source": [
        "# display image of unique cell\\n",
        "total = [preprocess_data('bone_marrow_cell_dataset/EBO/0001-1000/EBO_00001.jpg'),\\n",
        "         preprocess_data('bone_marrow_cell_dataset/EOS/0001-1000/EOS_00001.jpg'),\\n",
        "         preprocess_data('bone_marrow_cell_dataset/LYT/0001-1000/LYT_00001.jpg'),\\n",
        "         preprocess_data('bone_marrow_cell_dataset/MON/0001-1000/MON_00001.jpg'),\\n",
        "         preprocess_data('bone_marrow_cell_dataset/NGB/0001-1000/NGB_00001.jpg'),\\n"
      ]
    },
    {
      "cell_type": "code",
      "metadata": {},
      "outputs": [],
      "source": [
        "# perform one-hot encoding on cell types\\n",
        "label_encoder = LabelEncoder()\\n",
        "labels_encoded = label_encoder.fit_transform(cell_types_array)\\n",
        "cell_type = to_categorical(labels_encoded, num_classes=21)"
      ]
    },
    {
      "cell_type": "code",
      "metadata": {},
      "outputs": [],
      "source": [
        "# split the data into training and testing sets with ratio 80:20\\n",
        "X_train, X_test, y_train, y_test = train_test_split(images_array, cell_type, test_size=0.2, random_state=42)"
      ]
    },
    {
      "cell_type": "code",
      "metadata": {},
      "outputs": [],
      "source": [
        "# Approach 1: CNN model"
      ]
    },
    {
      "cell_type": "code",
      "metadata": {},
      "outputs": [],
      "source": [
        "# define cnn model using keras sequantial api\\n",
        "model = Sequential()\\n",
        "model.add(Conv2D(32, kernel_size=(3,3), activation = 'relu', input_shape=(64, 64, 3))) \\n",
        "model.add(MaxPooling2D(pool_size = (2, 2)))\\n",
        "\\n",
        "model.add(Conv2D(64, kernel_size = (3, 3), activation = 'relu'))\\n",
        "model.add(MaxPooling2D(pool_size = (2, 2)))\\n",
        "\\n",
        "model.add(Conv2D(32, kernel_size = (3, 3), activation = 'relu')) \\n",
        "model.add(MaxPooling2D(pool_size = (2, 2)))\\n",
        "\\n",
        "model.add(Flatten())\\n",
        "model.add(Dense (128, activation = 'relu'))\\n",
        "model.add(Dropout (0.20))\\n",
        "\\n",
        "model.add(Dense (21, activation = 'softmax'))  # 21: cell types"
      ]
    },
    {
      "cell_type": "code",
      "metadata": {},
      "outputs": [],
      "source": [
        "# summary of model\\n",
        "model.summary()"
      ]
    },
    {
      "cell_type": "code",
      "metadata": {},
      "outputs": [],
      "source": [
        "# compile model for multiclass classification\\n"
      ]
    },
    {
      "cell_type": "code",
      "metadata": {},
      "outputs": [],
      "source": [
        "# define the path to save the best model\\n",
        "model_checkpoint = ModelCheckpoint('model.h5', monitor='val_accuracy', save_best_only=True, verbose=1)"
      ]
    },
    {
      "cell_type": "code",
      "metadata": {},
      "outputs": [],
      "source": [
        "# train model for 10 epochs\\n"
      ]
    },
    {
      "cell_type": "code",
      "metadata": {},
      "outputs": [],
      "source": [
        "model.save(",
        ")"
      ]
    },
    {
      "cell_type": "code",
      "metadata": {},
      "outputs": [],
      "source": [
        "# visuals of accuracy throughout epochs\\n"
      ]
    },
    {
      "cell_type": "code",
      "metadata": {},
      "outputs": [],
      "source": [
        "# evaluate the model on the testing set\\n",
        "loss, accuracy = model.evaluate(X_test, y_test)\\n",
        "print(f'Loss during: {loss:.4f}')\\n",
        "print(f'Model accuracy: {accuracy:.4f}')"
      ]
    },
    {
      "cell_type": "code",
      "metadata": {},
      "outputs": [],
      "source": [
        "# load the saved model while making checkoint\\n",
        "model_path = 'model.h5'\\n",
        "loaded_model = load_model(model_path)\\n",
        "\\n",
        "# perform predictions on test set\\n",
        "predicted = loaded_model.predict(X_test)\\n",
        "\\n",
        "# convert predictions to class labels\\n",
        "predicted_cnn_cells = label_encoder.inverse_transform(np.argmax(predicted, axis=1))\\n",
        "\\n",
        "# convert one-hot encoded true labels to class labels\\n",
        "true_cnn_cells = label_encoder.inverse_transform(np.argmax(y_test, axis=1))"
      ]
    },
    {
      "cell_type": "code",
      "metadata": {},
      "outputs": [],
      "source": [
        "# plotting predicted results\\n",
        "plt.figure(figsize=(10, 10))\\n",
        "for i in range(9):\\n",
        "    plt.subplot(3, 3, i+1)\\n"
      ]
    },
    {
      "cell_type": "code",
      "metadata": {},
      "outputs": [],
      "source": [
        "confusion = confusion_matrix(true_cnn_cells, predicted_cnn_cells)\\n",
        "\\n",
        "# plot the confusion matrix\\n",
        "plt.figure(figsize=(8, 6))\\n",
        "sns.heatmap(confusion, annot=True, fmt='d', cmap='Blues', cbar=False)\\n",
        "plt.title('Confusion Matrix')\\n",
        "plt.xlabel('Predicted')\\n",
        "plt.ylabel('True')\\n",
        "plt.show()"
      ]
    },
    {
      "cell_type": "code",
      "metadata": {},
      "outputs": [],
      "source": [
        "# define class vise accuracy\\n",
        "class_accuracy = confusion.diagonal() / confusion.sum(axis=1)\\n"
      ]
    },
    {
      "cell_type": "code",
      "metadata": {},
      "outputs": [],
      "source": [
        "# Approach 2: ResNet"
      ]
    },
    {
      "cell_type": "code",
      "metadata": {},
      "outputs": [],
      "source": [
        "X = images_array # features(image array)\\n",
        "y = cell_type # target(cell type)"
      ]
    },
    {
      "cell_type": "code",
      "metadata": {},
      "outputs": [],
      "source": [
        "# split data into training and testing by 80:20\\n",
        "X_train, X_test, y_train, y_test = train_test_split(X, y, test_size=0.2, random_state=42)"
      ]
    },
    {
      "cell_type": "code",
      "metadata": {},
      "outputs": [],
      "source": [
        "# calling pre-rained 50-layer ResNet \\n",
        "base_model = ResNet50(weights='imagenet', include_top=False, input_shape=(64, 64, 3))"
      ]
    },
    {
      "cell_type": "code",
      "metadata": {},
      "outputs": [],
      "source": [
        "# build this dataset's training model on resnet\\n",
        "model = tf.keras.models.Sequential([\\n",
        "    base_model,\\n",
        "    tf.keras.layers.GlobalAveragePooling2D(),\\n",
        "    tf.keras.layers.Dense(128, activation='relu'),\\n",
        "    tf.keras.layers.Dropout(0.5),\\n",
        "    tf.keras.layers.Dense(21, activation='softmax')\\n"
      ]
    },
    {
      "cell_type": "code",
      "metadata": {},
      "outputs": [],
      "source": []
    },
    {
      "cell_type": "code",
      "metadata": {},
      "outputs": [],
      "source": [
        "# train model\\n",
        "resnet_model = model.fit(X_train, y_train, epochs=5, batch_size=300, validation_data=(X_test, y_test))"
      ]
    },
    {
      "cell_type": "code",
      "metadata": {},
      "outputs": [],
      "source": [
        "model.save(",
        ")  # save model"
      ]
    },
    {
      "cell_type": "code",
      "metadata": {},
      "outputs": [],
      "source": [
        "# visuals of accuracy throughout epochs\\n"
      ]
    },
    {
      "cell_type": "code",
      "metadata": {},
      "outputs": [],
      "source": [
        "# evaluate the model on the testing set\\n",
        "loss, accuracy = model.evaluate(X_test, y_test)\\n",
        "print(f'Loss during: {loss:.4f}')\\n",
        "print(f'Model accuracy: {accuracy:.4f}')"
      ]
    },
    {
      "cell_type": "code",
      "metadata": {},
      "outputs": [],
      "source": [
        "# load the saved model while making checkoint\\n",
        "model_path = 'bone_marrow_resnet_model.h5'\\n",
        "loaded_model = load_model(model_path)\\n",
        "\\n",
        "# perform predictions on test set\\n",
        "predicted = loaded_model.predict(X_test)\\n",
        "\\n",
        "# convert predictions to class labels\\n",
        "predicted_resnet_cells = label_encoder.inverse_transform(np.argmax(predicted, axis=1))\\n",
        "\\n",
        "# convert one-hot encoded true labels to class labels\\n",
        "true_resnet_cells = label_encoder.inverse_transform(np.argmax(y_test, axis=1))"
      ]
    },
    {
      "cell_type": "code",
      "metadata": {},
      "outputs": [],
      "source": [
        "# plotting predicted results\\n",
        "plt.figure(figsize=(10, 10))\\n",
        "for i in range(9):\\n",
        "    plt.subplot(3, 3, i+1)\\n"
      ]
    },
    {
      "cell_type": "code",
      "metadata": {},
      "outputs": [],
      "source": [
        "confusion = confusion_matrix(true_resnet_cells, predicted_resnet_cells)\\n",
        "\\n",
        "# plot confusion matrix\\n",
        "plt.figure(figsize=(8, 6))\\n",
        "sns.heatmap(confusion, annot=True, fmt='d', cmap='Blues', cbar=False)\\n",
        "plt.title('Confusion Matrix')\\n",
        "plt.xlabel('Predicted')\\n",
        "plt.ylabel('True')\\n",
        "plt.show()"
      ]
    },
    {
      "cell_type": "code",
      "metadata": {},
      "outputs": [],
      "source": [
        "# define class vise accuracy\\n",
        "class_accuracy = confusion.diagonal() / confusion.sum(axis=1)\\n"
      ]
    },
    {
      "cell_type": "code",
      "metadata": {},
      "outputs": [],
      "source": [
        "# comparison between two models"
      ]
    },
    {
      "cell_type": "code",
      "metadata": {},
      "outputs": [],
      "source": [
        "# accuracy comparison\\n",
        "plt.figure(figsize=(10,5))\\n"
      ]
    },
    {
      "cell_type": "code",
      "metadata": {},
      "outputs": [],
      "source": [
        "# validation accuracy comparison\\n",
        "plt.figure(figsize=(20,5))\\n"
      ]
    },
    {
      "cell_type": "code",
      "metadata": {},
      "outputs": [],
      "source": []
    }
  ],
  "metadata": {},
  "nbformat": 4,
  "nbformat_minor": 5
}
